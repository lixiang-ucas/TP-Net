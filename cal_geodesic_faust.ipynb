{
 "cells": [
  {
   "cell_type": "code",
   "execution_count": 23,
   "metadata": {
    "collapsed": false
   },
   "outputs": [],
   "source": [
    "import numpy as np\n",
    "import glob\n",
    "import os"
   ]
  },
  {
   "cell_type": "code",
   "execution_count": 24,
   "metadata": {
    "collapsed": false
   },
   "outputs": [],
   "source": [
    "off_list = sorted(glob.glob('data/faust_off_ge_real/*.off'))\n",
    "# print(off_list)"
   ]
  },
  {
   "cell_type": "code",
   "execution_count": 25,
   "metadata": {
    "collapsed": false
   },
   "outputs": [],
   "source": [
    "test_off = off_list[80:]\n",
    "# print(test_off)"
   ]
  },
  {
   "cell_type": "code",
   "execution_count": 26,
   "metadata": {
    "collapsed": false
   },
   "outputs": [
    {
     "data": {
      "text/plain": [
       "'data/faust_off_ge_real/tr_reg_081.off'"
      ]
     },
     "execution_count": 26,
     "metadata": {},
     "output_type": "execute_result"
    }
   ],
   "source": [
    "test_off[1]"
   ]
  },
  {
   "cell_type": "code",
   "execution_count": 27,
   "metadata": {
    "collapsed": false
   },
   "outputs": [],
   "source": [
    "# import trimesh\n",
    "\n",
    "# mesh_faust=trimesh.load_mesh('./data/faust_off_ge/tr_reg_000.off',process=False)\n",
    "# mesh_faust.show()"
   ]
  },
  {
   "cell_type": "code",
   "execution_count": 28,
   "metadata": {
    "collapsed": false
   },
   "outputs": [
    {
     "data": {
      "text/plain": [
       "u'/home/lingjing/Lingjing_Wang/AAAI2018/lx/FeaStNet'"
      ]
     },
     "execution_count": 28,
     "metadata": {},
     "output_type": "execute_result"
    }
   ],
   "source": [
    "pwd"
   ]
  },
  {
   "cell_type": "code",
   "execution_count": 55,
   "metadata": {
    "collapsed": false
   },
   "outputs": [],
   "source": [
    "pred_list,gt_list = np.load('Result/pred_V6-18.npy')"
   ]
  },
  {
   "cell_type": "code",
   "execution_count": 33,
   "metadata": {
    "collapsed": true
   },
   "outputs": [],
   "source": [
    "pred_list,gt_list = np.load('Result/pred_V6-15.npy')"
   ]
  },
  {
   "cell_type": "code",
   "execution_count": 51,
   "metadata": {
    "collapsed": false
   },
   "outputs": [],
   "source": [
    "pred_list,gt_list = np.load('Result/pred_V6-10.npy')"
   ]
  },
  {
   "cell_type": "code",
   "execution_count": null,
   "metadata": {
    "collapsed": true
   },
   "outputs": [],
   "source": []
  },
  {
   "cell_type": "code",
   "execution_count": 39,
   "metadata": {
    "collapsed": false
   },
   "outputs": [
    {
     "data": {
      "text/plain": [
       "0.9950870827285921"
      ]
     },
     "execution_count": 39,
     "metadata": {},
     "output_type": "execute_result"
    }
   ],
   "source": [
    "float(np.count_nonzero(pred_list==gt_list))/(gt_list.shape[0]*gt_list.shape[1])"
   ]
  },
  {
   "cell_type": "code",
   "execution_count": 41,
   "metadata": {
    "collapsed": false
   },
   "outputs": [
    {
     "data": {
      "text/plain": [
       "0.9950798258345428"
      ]
     },
     "execution_count": 41,
     "metadata": {},
     "output_type": "execute_result"
    }
   ],
   "source": [
    "float(np.count_nonzero(refine_pred_list==gt_list))/(gt_list.shape[0]*gt_list.shape[1])"
   ]
  },
  {
   "cell_type": "code",
   "execution_count": 37,
   "metadata": {
    "collapsed": false
   },
   "outputs": [
    {
     "data": {
      "text/plain": [
       "((20, 6890), (20, 6890))"
      ]
     },
     "execution_count": 37,
     "metadata": {},
     "output_type": "execute_result"
    }
   ],
   "source": [
    "pred_list.shape, gt_list.shape"
   ]
  },
  {
   "cell_type": "code",
   "execution_count": 36,
   "metadata": {
    "collapsed": false
   },
   "outputs": [
    {
     "name": "stdout",
     "output_type": "stream",
     "text": [
      "tmpfaust_lap_lxrefine\n"
     ]
    }
   ],
   "source": [
    "root_dir = 'tmpfaust_lap_lxrefine'\n",
    "if not os.path.exists(root_dir):\n",
    "    os.mkdir(root_dir)\n",
    "    print(root_dir)\n",
    "else:\n",
    "    os.system('rm -rf {}'.format(root_dir))\n",
    "    os.mkdir(root_dir)"
   ]
  },
  {
   "cell_type": "code",
   "execution_count": null,
   "metadata": {
    "collapsed": true
   },
   "outputs": [],
   "source": []
  },
  {
   "cell_type": "code",
   "execution_count": 43,
   "metadata": {
    "collapsed": false,
    "scrolled": true
   },
   "outputs": [
    {
     "name": "stdout",
     "output_type": "stream",
     "text": [
      "./example0 data/faust_off_ge_real/tr_reg_080.off tmpfaust_lap_lxrefine/pred_0.txt tmpfaust_lap_lxrefine/distances_0.txt\n",
      "('running time: ', 12.038275003433228, (6891,))\n",
      "./example0 data/faust_off_ge_real/tr_reg_081.off tmpfaust_lap_lxrefine/pred_1.txt tmpfaust_lap_lxrefine/distances_1.txt\n",
      "('running time: ', 20.774627923965454, (6891,))\n",
      "./example0 data/faust_off_ge_real/tr_reg_082.off tmpfaust_lap_lxrefine/pred_2.txt tmpfaust_lap_lxrefine/distances_2.txt\n",
      "('running time: ', 12.169985055923462, (6891,))\n",
      "./example0 data/faust_off_ge_real/tr_reg_083.off tmpfaust_lap_lxrefine/pred_3.txt tmpfaust_lap_lxrefine/distances_3.txt\n",
      "('running time: ', 14.39835500717163, (6891,))\n",
      "./example0 data/faust_off_ge_real/tr_reg_084.off tmpfaust_lap_lxrefine/pred_4.txt tmpfaust_lap_lxrefine/distances_4.txt\n",
      "('running time: ', 143.1649580001831, (6891,))\n",
      "./example0 data/faust_off_ge_real/tr_reg_085.off tmpfaust_lap_lxrefine/pred_5.txt tmpfaust_lap_lxrefine/distances_5.txt\n",
      "('running time: ', 19.380057096481323, (6891,))\n",
      "./example0 data/faust_off_ge_real/tr_reg_086.off tmpfaust_lap_lxrefine/pred_6.txt tmpfaust_lap_lxrefine/distances_6.txt\n",
      "('running time: ', 25.04444909095764, (6891,))\n",
      "./example0 data/faust_off_ge_real/tr_reg_087.off tmpfaust_lap_lxrefine/pred_7.txt tmpfaust_lap_lxrefine/distances_7.txt\n",
      "('running time: ', 17.819334030151367, (6891,))\n",
      "./example0 data/faust_off_ge_real/tr_reg_088.off tmpfaust_lap_lxrefine/pred_8.txt tmpfaust_lap_lxrefine/distances_8.txt\n",
      "('running time: ', 56.96257209777832, (6891,))\n",
      "./example0 data/faust_off_ge_real/tr_reg_089.off tmpfaust_lap_lxrefine/pred_9.txt tmpfaust_lap_lxrefine/distances_9.txt\n",
      "('running time: ', 13.354809045791626, (6891,))\n",
      "./example0 data/faust_off_ge_real/tr_reg_090.off tmpfaust_lap_lxrefine/pred_10.txt tmpfaust_lap_lxrefine/distances_10.txt\n",
      "('running time: ', 7.056578874588013, (6891,))\n",
      "./example0 data/faust_off_ge_real/tr_reg_091.off tmpfaust_lap_lxrefine/pred_11.txt tmpfaust_lap_lxrefine/distances_11.txt\n",
      "('running time: ', 15.703769207000732, (6891,))\n",
      "./example0 data/faust_off_ge_real/tr_reg_092.off tmpfaust_lap_lxrefine/pred_12.txt tmpfaust_lap_lxrefine/distances_12.txt\n",
      "('running time: ', 30.33525586128235, (6891,))\n",
      "./example0 data/faust_off_ge_real/tr_reg_093.off tmpfaust_lap_lxrefine/pred_13.txt tmpfaust_lap_lxrefine/distances_13.txt\n",
      "('running time: ', 17.403372049331665, (6891,))\n",
      "./example0 data/faust_off_ge_real/tr_reg_094.off tmpfaust_lap_lxrefine/pred_14.txt tmpfaust_lap_lxrefine/distances_14.txt\n",
      "('running time: ', 6.903030872344971, (6891,))\n",
      "./example0 data/faust_off_ge_real/tr_reg_095.off tmpfaust_lap_lxrefine/pred_15.txt tmpfaust_lap_lxrefine/distances_15.txt\n",
      "('running time: ', 15.428153991699219, (6891,))\n",
      "./example0 data/faust_off_ge_real/tr_reg_096.off tmpfaust_lap_lxrefine/pred_16.txt tmpfaust_lap_lxrefine/distances_16.txt\n",
      "('running time: ', 22.507305145263672, (6891,))\n",
      "./example0 data/faust_off_ge_real/tr_reg_097.off tmpfaust_lap_lxrefine/pred_17.txt tmpfaust_lap_lxrefine/distances_17.txt\n",
      "('running time: ', 18.826335906982422, (6891,))\n",
      "./example0 data/faust_off_ge_real/tr_reg_098.off tmpfaust_lap_lxrefine/pred_18.txt tmpfaust_lap_lxrefine/distances_18.txt\n",
      "('running time: ', 23.318608045578003, (6891,))\n",
      "./example0 data/faust_off_ge_real/tr_reg_099.off tmpfaust_lap_lxrefine/pred_19.txt tmpfaust_lap_lxrefine/distances_19.txt\n",
      "('running time: ', 32.4024920463562, (6891,))\n"
     ]
    }
   ],
   "source": [
    "import time \n",
    "distance_all = []\n",
    "for i in range(20):\n",
    "    st = time.time()\n",
    "    off_f = test_off[i]\n",
    "    np.savetxt('{}/pred_{}.txt'.format(root_dir, i), refine_pred_list[i].astype('int32'))\n",
    "    exec_str = './example0 '+off_f+' {}/pred_{}.txt'.format(root_dir,i)+' {}/distances_{}.txt'.format(root_dir,i)\n",
    "    print(exec_str)\n",
    "    os.system(exec_str)\n",
    "    distance_cur = np.loadtxt('{}/distances_{}.txt'.format(root_dir,i))\n",
    "    print('running time: ', time.time()-st, distance_cur.shape)\n",
    "    distance_all.append(distance_cur[:6890].reshape((1,-1)))"
   ]
  },
  {
   "cell_type": "code",
   "execution_count": null,
   "metadata": {
    "collapsed": false
   },
   "outputs": [],
   "source": []
  },
  {
   "cell_type": "code",
   "execution_count": 54,
   "metadata": {
    "collapsed": false,
    "scrolled": true
   },
   "outputs": [
    {
     "name": "stdout",
     "output_type": "stream",
     "text": [
      "('running time: ', 0.03717303276062012, (6891,))\n",
      "('running time: ', 0.0328068733215332, (6891,))\n",
      "('running time: ', 0.03119492530822754, (6891,))\n",
      "('running time: ', 0.03103804588317871, (6891,))\n",
      "('running time: ', 0.031191110610961914, (6891,))\n",
      "('running time: ', 0.03141498565673828, (6891,))\n",
      "('running time: ', 0.03128504753112793, (6891,))\n",
      "('running time: ', 0.034703969955444336, (6891,))\n",
      "('running time: ', 0.0316929817199707, (6891,))\n",
      "('running time: ', 0.031497955322265625, (6891,))\n",
      "('running time: ', 0.03470182418823242, (6891,))\n",
      "('running time: ', 0.04258918762207031, (6891,))\n",
      "('running time: ', 0.0433499813079834, (6891,))\n",
      "('running time: ', 0.046022891998291016, (6891,))\n",
      "('running time: ', 0.032011985778808594, (6891,))\n",
      "('running time: ', 0.030991077423095703, (6891,))\n",
      "('running time: ', 0.031195878982543945, (6891,))\n",
      "('running time: ', 0.032727956771850586, (6891,))\n",
      "('running time: ', 0.031723976135253906, (6891,))\n",
      "('running time: ', 0.03135085105895996, (6891,))\n"
     ]
    }
   ],
   "source": [
    "import time \n",
    "off_list = sorted(glob.glob('data/faust_off_ge_real/*.off'))\n",
    "test_off = off_list[80:]\n",
    "\n",
    "distance_all = []\n",
    "for i in range(20):\n",
    "    st = time.time()\n",
    "#     off_f = test_off[i]\n",
    "#     np.savetxt('tmp/pred_%d.txt' % (i), pred_list[i].astype('int32'))\n",
    "#     exec_str = './example0 '+off_f+' tmp/pred_{}.txt'.format(i)+' tmp/distances_{}.txt'.format(i)\n",
    "#     print(exec_str)\n",
    "#     os.system(exec_str)\n",
    "    distance_cur = np.loadtxt('tmp/distances_{}.txt'.format(i))\n",
    "    print('running time: ', time.time()-st, distance_cur.shape)\n",
    "    distance_all.append(distance_cur[:6890].reshape((1,-1)))"
   ]
  },
  {
   "cell_type": "code",
   "execution_count": null,
   "metadata": {
    "collapsed": true
   },
   "outputs": [],
   "source": [
    "# st = time.time()\n",
    "# i=19\n",
    "# off_f = test_off[i]\n",
    "# np.savetxt('tmp/pred_%d.txt' % (i), pred_list[i].astype('int32'))\n",
    "# exec_str = './example0 '+off_f+' tmp/pred_{}.txt'.format(i)+' tmp/distances_{}.txt'.format(i)\n",
    "# print(exec_str)\n",
    "# os.system(exec_str)\n",
    "# distance_cur = np.loadtxt('tmp/distances_{}.txt'.format(i))\n",
    "# print('running time: ', time.time()-st, distance_cur.shape)"
   ]
  },
  {
   "cell_type": "code",
   "execution_count": 44,
   "metadata": {
    "collapsed": false
   },
   "outputs": [
    {
     "name": "stdout",
     "output_type": "stream",
     "text": [
      "0.105954\n",
      "0.13263\n",
      "0.106445\n",
      "0.112134\n",
      "0.133838\n",
      "0.137738\n",
      "1.43572\n",
      "0.110794\n",
      "0.145839\n",
      "0.102285\n",
      "0.052535\n",
      "0.169389\n",
      "0.179216\n",
      "0.154948\n",
      "0.052973\n",
      "0.111328\n",
      "1.58908\n",
      "1.20291\n",
      "0.12235\n",
      "0.0521245\n"
     ]
    }
   ],
   "source": [
    "for dis in distance_all:\n",
    "    print(dis.max())"
   ]
  },
  {
   "cell_type": "code",
   "execution_count": 45,
   "metadata": {
    "collapsed": false
   },
   "outputs": [],
   "source": [
    "distance_cmb = np.concatenate(distance_all,axis=0)"
   ]
  },
  {
   "cell_type": "code",
   "execution_count": 12,
   "metadata": {
    "collapsed": true
   },
   "outputs": [],
   "source": [
    "np.save('Result/faust_distance_real_Single_LLE.npy', distance_cmb)"
   ]
  },
  {
   "cell_type": "code",
   "execution_count": 58,
   "metadata": {
    "collapsed": true
   },
   "outputs": [],
   "source": [
    "np.save('Result/faust_distance_real_Single_noLLE.npy', distance_cmb)"
   ]
  },
  {
   "cell_type": "code",
   "execution_count": 47,
   "metadata": {
    "collapsed": true
   },
   "outputs": [],
   "source": [
    "np.save('Result/faust_distance_real_lap_refinelx.npy', distance_cmb)"
   ]
  },
  {
   "cell_type": "code",
   "execution_count": 75,
   "metadata": {
    "collapsed": true
   },
   "outputs": [],
   "source": [
    "distance_cmb = np.load('Result/faust_distance_real_Single_noLLE.npy')"
   ]
  },
  {
   "cell_type": "code",
   "execution_count": 32,
   "metadata": {
    "collapsed": true
   },
   "outputs": [],
   "source": [
    "distance_cmb = np.load('Result/faust_distance_diameter.npy')"
   ]
  },
  {
   "cell_type": "code",
   "execution_count": null,
   "metadata": {
    "collapsed": true
   },
   "outputs": [],
   "source": []
  },
  {
   "cell_type": "code",
   "execution_count": 48,
   "metadata": {
    "collapsed": false
   },
   "outputs": [
    {
     "data": {
      "text/plain": [
       "(1.58908, 0.0002120221799201742)"
      ]
     },
     "execution_count": 48,
     "metadata": {},
     "output_type": "execute_result"
    }
   ],
   "source": [
    "np.max(distance_cmb) , np.mean(distance_cmb)"
   ]
  },
  {
   "cell_type": "code",
   "execution_count": null,
   "metadata": {
    "collapsed": true
   },
   "outputs": [],
   "source": []
  },
  {
   "cell_type": "code",
   "execution_count": 59,
   "metadata": {
    "collapsed": true
   },
   "outputs": [],
   "source": [
    "distance_diam = np.load('Result/faust_distance_diameter.npy')\n",
    "distance_real = np.load('Result/faust_distance_real_lap_refinelx.npy')"
   ]
  },
  {
   "cell_type": "code",
   "execution_count": 72,
   "metadata": {
    "collapsed": false,
    "scrolled": true
   },
   "outputs": [
    {
     "data": {
      "text/plain": [
       "((20, 6890), 1.7918700000000001, 0.0016160737859216255)"
      ]
     },
     "execution_count": 72,
     "metadata": {},
     "output_type": "execute_result"
    }
   ],
   "source": [
    "distance_cmb.shape, distance_cmb.max(), distance_cmb.mean()"
   ]
  },
  {
   "cell_type": "code",
   "execution_count": null,
   "metadata": {
    "collapsed": true
   },
   "outputs": [],
   "source": []
  },
  {
   "cell_type": "code",
   "execution_count": 57,
   "metadata": {
    "collapsed": false
   },
   "outputs": [],
   "source": [
    "#for diameter%\n",
    "cnt = np.zeros((100,1))\n",
    "for i in range(100):\n",
    "    cnt[i] = np.count_nonzero(distance_cmb<=0.2*i/100.0) / float(20*6890)"
   ]
  },
  {
   "cell_type": "code",
   "execution_count": 58,
   "metadata": {
    "collapsed": false
   },
   "outputs": [
    {
     "data": {
      "image/png": "[encoded data removed]",
      "text/plain": [
       "<matplotlib.figure.Figure at 0x7f01a8fa4910>"
      ]
     },
     "metadata": {},
     "output_type": "display_data"
    }
   ],
   "source": [
    "import matplotlib.pyplot as plt\n",
    "plt.plot(0.1*np.arange(100)/100.0, cnt)\n",
    "plt.show()"
   ]
  },
  {
   "cell_type": "code",
   "execution_count": null,
   "metadata": {
    "collapsed": true
   },
   "outputs": [],
   "source": []
  },
  {
   "cell_type": "code",
   "execution_count": null,
   "metadata": {
    "collapsed": true
   },
   "outputs": [],
   "source": []
  },
  {
   "cell_type": "code",
   "execution_count": 15,
   "metadata": {
    "collapsed": true
   },
   "outputs": [],
   "source": [
    "distance_real = distance_cmb"
   ]
  },
  {
   "cell_type": "code",
   "execution_count": 60,
   "metadata": {
    "collapsed": false
   },
   "outputs": [],
   "source": [
    "#for real distance\n",
    "cnt = np.zeros((100,1))\n",
    "distance_real = distance_real*100 #convert to cm\n",
    "for i in range(100):\n",
    "    cnt[i] = np.count_nonzero(distance_real<=20*i/100.0) / float(20*6890)"
   ]
  },
  {
   "cell_type": "code",
   "execution_count": 61,
   "metadata": {
    "collapsed": false
   },
   "outputs": [
    {
     "data": {
      "image/png": "[encoded data removed]",
      "text/plain": [
       "<matplotlib.figure.Figure at 0x7f01a183d2d0>"
      ]
     },
     "metadata": {},
     "output_type": "display_data"
    }
   ],
   "source": [
    "import matplotlib.pyplot as plt\n",
    "plt.plot(20*np.arange(100)/100.0, cnt)\n",
    "plt.xlabel('Geodesic error (cm)')\n",
    "plt.ylabel('% correspondences')\n",
    "plt.legend(['Ours'],loc=4)\n",
    "# plt.savefig('Result/faust_distance_real.png',dpi=300)\n",
    "plt.show()"
   ]
  },
  {
   "cell_type": "code",
   "execution_count": null,
   "metadata": {
    "collapsed": true
   },
   "outputs": [],
   "source": []
  },
  {
   "cell_type": "code",
   "execution_count": 30,
   "metadata": {
    "collapsed": true
   },
   "outputs": [],
   "source": [
    "offlist = sorted(glob.glob('/home/mmvc/Xiang_Li_BK/DL_DATA/EG16_tutorial/dataset/FAUST_registrations/meshes/orig/*.off'))"
   ]
  },
  {
   "cell_type": "code",
   "execution_count": 31,
   "metadata": {
    "collapsed": true
   },
   "outputs": [],
   "source": [
    "import trimesh"
   ]
  },
  {
   "cell_type": "code",
   "execution_count": null,
   "metadata": {
    "collapsed": true
   },
   "outputs": [],
   "source": []
  },
  {
   "cell_type": "code",
   "execution_count": null,
   "metadata": {
    "collapsed": true
   },
   "outputs": [],
   "source": []
  },
  {
   "cell_type": "code",
   "execution_count": 54,
   "metadata": {
    "collapsed": true
   },
   "outputs": [],
   "source": [
    "import scipy.spatial.distance as dis"
   ]
  },
  {
   "cell_type": "code",
   "execution_count": 49,
   "metadata": {
    "collapsed": false
   },
   "outputs": [
    {
     "name": "stdout",
     "output_type": "stream",
     "text": [
      "((6890, 3), (13776, 3), TrackedArray(-1.158032), TrackedArray(0.616928))\n",
      "1.771880091452143\n"
     ]
    }
   ],
   "source": [
    "offlist = sorted(glob.glob('/home/mmvc/Xiang_Li_BK/DL_DATA/EG16_tutorial/dataset/FAUST_registrations/meshes/orig/*.off'))\n",
    "\n",
    "mesh = trimesh.load_mesh(offlist[0], process=False)\n",
    "print(mesh.vertices.shape, mesh.faces.shape, mesh.vertices.min(), mesh.vertices.max())\n",
    "print(mesh.area)"
   ]
  },
  {
   "cell_type": "code",
   "execution_count": null,
   "metadata": {
    "collapsed": true
   },
   "outputs": [],
   "source": []
  },
  {
   "cell_type": "code",
   "execution_count": 50,
   "metadata": {
    "collapsed": false
   },
   "outputs": [
    {
     "name": "stdout",
     "output_type": "stream",
     "text": [
      "0.13311198636682361\n"
     ]
    }
   ],
   "source": [
    "threshold = 0.1*np.sqrt(mesh.area)\n",
    "print(threshold)"
   ]
  },
  {
   "cell_type": "code",
   "execution_count": null,
   "metadata": {
    "collapsed": false
   },
   "outputs": [],
   "source": []
  },
  {
   "cell_type": "code",
   "execution_count": null,
   "metadata": {
    "collapsed": false,
    "scrolled": true
   },
   "outputs": [],
   "source": [
    "pred_refine = pred_list.copy()\n",
    "for i in range(20):\n",
    "    \n",
    "    mesh = trimesh.load_mesh(offlist[80+i], process=False)\n",
    "    distances = dis.pdist(mesh.vertices)\n",
    "    distances = dis.squareform(distances)\n",
    "    threshold = 0.05*np.sqrt(mesh.area)\n",
    "    print(distances.shape, threshold)\n",
    "\n",
    "    for iter in range(5):\n",
    "        err_idx_cur = []\n",
    "        for j in range(len(mesh.vertices)):\n",
    "            nbrs = mesh.vertex_neighbors[j]\n",
    "            if np.sum(distances[pred_refine[i][j]][pred_refine[i][nbrs]]>threshold)>0.5*len(nbrs):\n",
    "    #             print(j, np.sum(distances[pred_refine[i][j]][pred_refine[i][nbrs]]>threshold),len(nbrs))\n",
    "                err_idx_cur.append(j)\n",
    "        \n",
    "        print(iter, len(err_idx_cur), err_idx_cur[:5])\n",
    "        \n",
    "        for j in err_idx_cur:\n",
    "            nearest_idx = np.argsort(distances[j])\n",
    "            for ni in nearest_idx:\n",
    "                if ni not in err_idx_cur:\n",
    "                    pred_refine[i][j] = ni\n",
    "                    break"
   ]
  },
  {
   "cell_type": "code",
   "execution_count": 20,
   "metadata": {
    "collapsed": false
   },
   "outputs": [
    {
     "name": "stdout",
     "output_type": "stream",
     "text": [
      "0.997822931785196\n",
      "0.9959361393323658\n",
      "0.997822931785196\n",
      "0.9972423802612482\n",
      "0.9728592162554427\n",
      "0.9963715529753265\n",
      "0.995210449927431\n",
      "0.9966618287373005\n",
      "0.9888243831640058\n",
      "0.997677793904209\n",
      "0.9988388969521045\n",
      "0.9970972423802612\n",
      "0.9941944847605225\n",
      "0.9966618287373005\n",
      "0.9988388969521045\n",
      "0.9972423802612482\n",
      "0.9957910014513788\n",
      "0.9966618287373005\n",
      "0.9956458635703919\n",
      "0.9941944847605225\n",
      "('mean acc', 0.9950798258345428)\n"
     ]
    }
   ],
   "source": [
    "for i in range(20):\n",
    "    print(np.sum(pred_refine[i]==np.arange(6890))/6890.0)\n",
    "print('mean acc', float(np.sum(pred_refine==gt_list))/(gt_list.shape[0]*gt_list.shape[1]))"
   ]
  },
  {
   "cell_type": "code",
   "execution_count": 21,
   "metadata": {
    "collapsed": true
   },
   "outputs": [],
   "source": [
    "np.save('./Result/pred_FAUST_LAP_refinelx.npy', (pred_refine, gt_list))"
   ]
  },
  {
   "cell_type": "code",
   "execution_count": 42,
   "metadata": {
    "collapsed": true
   },
   "outputs": [],
   "source": [
    "refine_pred_list, gt_list = np.load('./Result/pred_FAUST_LAP_refinelx.npy')"
   ]
  },
  {
   "cell_type": "code",
   "execution_count": null,
   "metadata": {
    "collapsed": true
   },
   "outputs": [],
   "source": []
  },
  {
   "cell_type": "code",
   "execution_count": null,
   "metadata": {
    "collapsed": true
   },
   "outputs": [],
   "source": []
  }
 ],
 "metadata": {
  "anaconda-cloud": {},
  "kernelspec": {
   "display_name": "Python [conda env:Xiang_Li]",
   "language": "python",
   "name": "conda-env-Xiang_Li-py"
  },
  "language_info": {
   "codemirror_mode": {
    "name": "ipython",
    "version": 2
   },
   "file_extension": ".py",
   "mimetype": "text/x-python",
   "name": "python",
   "nbconvert_exporter": "python",
   "pygments_lexer": "ipython2",
   "version": "2.7.12"
  }
 },
 "nbformat": 4,
 "nbformat_minor": 1
}
